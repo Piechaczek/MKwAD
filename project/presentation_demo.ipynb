{
 "cells": [
  {
   "cell_type": "code",
   "execution_count": 2,
   "metadata": {},
   "outputs": [],
   "source": [
    "from pvd import PVD, ReversePVD\n",
    "from ipvd import IPVD, ReverseIPVD\n",
    "from lsb import LSB, ReverseLSB\n",
    "from range_table import RangeTables\n",
    "from bitarray import bitarray\n",
    "from bitpacker import packSecrets, unpackSecrets\n",
    "from PIL import Image\n",
    "from matplotlib import pyplot as plt"
   ]
  },
  {
   "cell_type": "code",
   "execution_count": 7,
   "metadata": {},
   "outputs": [
    {
     "name": "stdout",
     "output_type": "stream",
     "text": [
      "Calculated capacity: \n",
      " =3950820 b\n",
      " ~482 KB\n",
      "Calculated capacity: \n",
      " =6097920 b\n",
      " ~744 KB\n"
     ]
    }
   ],
   "source": [
    "image = LSB('images/image.png')\n",
    "secret = packSecrets('./secrets')\n",
    "result, new_data = image.hide_data(secret, 3, 'results/lsb_image1.png')\n",
    "image.print_capacity()\n",
    "\n",
    "reverse = ReverseLSB('results/lsb_image1.png')\n",
    "extracted = reverse.extract(3)\n",
    "unpackSecrets(extracted)\n",
    "\n",
    "image = LSB('images/image2.jpg')\n",
    "secret = packSecrets('./secrets2')\n",
    "result, new_data = image.hide_data(secret, 3, 'results/lsb_image2.png')\n",
    "image.print_capacity()\n",
    "\n",
    "reverse = ReverseLSB('results/lsb_image2.png')\n",
    "extracted = reverse.extract(3)\n",
    "unpackSecrets(extracted, out='./result_secrets2')"
   ]
  },
  {
   "cell_type": "code",
   "execution_count": 7,
   "metadata": {},
   "outputs": [
    {
     "name": "stdout",
     "output_type": "stream",
     "text": [
      "Calculated capacity: \n",
      " =2208414 b\n",
      " ~269 KB\n",
      "Calculated capacity: \n",
      " =3151783 b\n",
      " ~384 KB\n"
     ]
    }
   ],
   "source": [
    "image = PVD('images/image.png')\n",
    "secret = packSecrets('./secrets')\n",
    "result, new_data = image.hide_data(secret, RangeTables.basic_range_table, 'results/pvd_image1.png')\n",
    "image.print_capacity()\n",
    "\n",
    "# reverse = ReversePVD('results/pvd_image1.png')\n",
    "# extracted = reverse.extract(RangeTables.basic_range_table)\n",
    "# unpackSecrets(extracted)\n",
    "\n",
    "image = PVD('images/image2.jpg')\n",
    "secret = packSecrets('./secrets2')\n",
    "result, new_data = image.hide_data(secret, RangeTables.basic_range_table, 'results/pvd_image2.png')\n",
    "image.print_capacity()\n",
    "\n",
    "# reverse = ReversePVD('results/pvd_image2.png')\n",
    "# extracted = reverse.extract(RangeTables.basic_range_table)\n",
    "# unpackSecrets(extracted, out='./result_secrets2')"
   ]
  },
  {
   "cell_type": "code",
   "execution_count": 10,
   "metadata": {},
   "outputs": [
    {
     "name": "stdout",
     "output_type": "stream",
     "text": [
      "Calculated capacity: \n",
      " =2400293 b\n",
      " ~293 KB\n",
      "Calculated capacity: \n",
      " =3489229 b\n",
      " ~425 KB\n"
     ]
    }
   ],
   "source": [
    "image = IPVD('images/image.png')\n",
    "secret = packSecrets('./secrets')\n",
    "result, new_data = image.hide_data(secret, RangeTables.basic_range_table, 2, 'results/ipvd_image1.png')\n",
    "image.print_capacity()\n",
    "\n",
    "# reverse = ReverseIPVD('results/ipvd_image1.png')\n",
    "# extracted = reverse.extract(RangeTables.basic_range_table, 2)\n",
    "# unpackSecrets(extracted)\n",
    "\n",
    "image = IPVD('images/image2.jpg')\n",
    "secret = packSecrets('./secrets2')\n",
    "result, new_data = image.hide_data(secret, RangeTables.basic_range_table, 2, 'results/ipvd_image2.png')\n",
    "image.print_capacity()\n",
    "\n",
    "# reverse = ReverseIPVD('results/ipvd_image2.png')\n",
    "# extracted = reverse.extract(RangeTables.basic_range_table, 2)\n",
    "# unpackSecrets(extracted, out='./result_secrets2')"
   ]
  },
  {
   "cell_type": "code",
   "execution_count": null,
   "metadata": {},
   "outputs": [],
   "source": []
  }
 ],
 "metadata": {
  "kernelspec": {
   "display_name": "Python 3",
   "language": "python",
   "name": "python3"
  },
  "language_info": {
   "codemirror_mode": {
    "name": "ipython",
    "version": 3
   },
   "file_extension": ".py",
   "mimetype": "text/x-python",
   "name": "python",
   "nbconvert_exporter": "python",
   "pygments_lexer": "ipython3",
   "version": "3.11.2"
  },
  "orig_nbformat": 4
 },
 "nbformat": 4,
 "nbformat_minor": 2
}
