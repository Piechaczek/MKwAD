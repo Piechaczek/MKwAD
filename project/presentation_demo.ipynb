{
 "cells": [
  {
   "cell_type": "code",
   "execution_count": 1,
   "metadata": {},
   "outputs": [],
   "source": [
    "from pvd import PVD, ReversePVD\n",
    "from ipvd import IPVD, ReverseIPVD\n",
    "from lsb import LSB, ReverseLSB\n",
    "from range_table import RangeTables\n",
    "from bitarray import bitarray\n",
    "from bitpacker import packSecrets, unpackSecrets\n",
    "from PIL import Image\n",
    "from matplotlib import pyplot as plt"
   ]
  },
  {
   "cell_type": "code",
   "execution_count": 7,
   "metadata": {},
   "outputs": [
    {
     "name": "stdout",
     "output_type": "stream",
     "text": [
      "Calculated capacity: \n",
      " =3950820 b\n",
      " ~482 KB\n",
      "Calculated capacity: \n",
      " =6097920 b\n",
      " ~744 KB\n"
     ]
    }
   ],
   "source": [
    "image = LSB('images/image.png')\n",
    "secret = packSecrets('./secrets')\n",
    "result, new_data = image.hide_data(secret, 3, 'results/lsb_image1.png')\n",
    "image.print_capacity()\n",
    "\n",
    "reverse = ReverseLSB('results/lsb_image1.png')\n",
    "extracted = reverse.extract(3)\n",
    "unpackSecrets(extracted)\n",
    "\n",
    "image = LSB('images/image2.jpg')\n",
    "secret = packSecrets('./secrets2')\n",
    "result, new_data = image.hide_data(secret, 3, 'results/lsb_image2.png')\n",
    "image.print_capacity()\n",
    "\n",
    "reverse = ReverseLSB('results/lsb_image2.png')\n",
    "extracted = reverse.extract(3)\n",
    "unpackSecrets(extracted, out='./result_secrets2')"
   ]
  },
  {
   "cell_type": "code",
   "execution_count": 4,
   "metadata": {},
   "outputs": [
    {
     "name": "stdout",
     "output_type": "stream",
     "text": [
      "Calculated capacity: \n",
      " =2208414 b\n",
      " ~269 KB\n",
      "Calculated capacity: \n",
      " =3151783 b\n",
      " ~384 KB\n"
     ]
    }
   ],
   "source": [
    "image = PVD('images/image.png')\n",
    "secret = packSecrets('./secrets')\n",
    "result, new_data = image.hide_data(secret, RangeTables.basic_range_table, 'results/pvd_image1.png')\n",
    "image.print_capacity()\n",
    "\n",
    "reverse = ReversePVD('results/pvd_image1.png')\n",
    "extracted = reverse.extract(RangeTables.basic_range_table)\n",
    "unpackSecrets(extracted)\n",
    "\n",
    "image = PVD('images/image2.jpg')\n",
    "secret = packSecrets('./secrets2')\n",
    "result, new_data = image.hide_data(secret, RangeTables.basic_range_table, 'results/pvd_image2.png')\n",
    "image.print_capacity()\n",
    "\n",
    "reverse = ReversePVD('results/pvd_image2.png')\n",
    "extracted = reverse.extract(RangeTables.basic_range_table)\n",
    "unpackSecrets(extracted, out='./result_secrets2')"
   ]
  },
  {
   "cell_type": "code",
   "execution_count": 4,
   "metadata": {},
   "outputs": [
    {
     "name": "stdout",
     "output_type": "stream",
     "text": [
      "Calculated capacity: \n",
      " =2400293 b\n",
      " ~293 KB\n"
     ]
    },
    {
     "ename": "BadZipFile",
     "evalue": "Bad CRC-32 for file 'pan_tadeusz_cz_1.txt'",
     "output_type": "error",
     "traceback": [
      "\u001b[1;31m---------------------------------------------------------------------------\u001b[0m",
      "\u001b[1;31mBadZipFile\u001b[0m                                Traceback (most recent call last)",
      "Cell \u001b[1;32mIn[4], line 8\u001b[0m\n\u001b[0;32m      6\u001b[0m reverse \u001b[39m=\u001b[39m ReverseIPVD(\u001b[39m'\u001b[39m\u001b[39mresults/ipvd_image1.png\u001b[39m\u001b[39m'\u001b[39m)\n\u001b[0;32m      7\u001b[0m extracted \u001b[39m=\u001b[39m reverse\u001b[39m.\u001b[39mextract(RangeTables\u001b[39m.\u001b[39mbasic_range_table, \u001b[39m2\u001b[39m)\n\u001b[1;32m----> 8\u001b[0m unpackSecrets(extracted)\n\u001b[0;32m     10\u001b[0m image \u001b[39m=\u001b[39m IPVD(\u001b[39m'\u001b[39m\u001b[39mimages/image2.jpg\u001b[39m\u001b[39m'\u001b[39m)\n\u001b[0;32m     11\u001b[0m secret \u001b[39m=\u001b[39m packSecrets(\u001b[39m'\u001b[39m\u001b[39m./secrets2\u001b[39m\u001b[39m'\u001b[39m)\n",
      "File \u001b[1;32mc:\\studia\\krypto\\MKwAD\\project\\bitpacker.py:26\u001b[0m, in \u001b[0;36munpackSecrets\u001b[1;34m(bits, out)\u001b[0m\n\u001b[0;32m     24\u001b[0m f\u001b[39m.\u001b[39mwrite(bits\u001b[39m.\u001b[39mtobytes())\n\u001b[0;32m     25\u001b[0m f\u001b[39m.\u001b[39mclose()\n\u001b[1;32m---> 26\u001b[0m shutil\u001b[39m.\u001b[39;49munpack_archive(\u001b[39m'\u001b[39;49m\u001b[39mtemp_file.zip\u001b[39;49m\u001b[39m'\u001b[39;49m, out, \u001b[39m'\u001b[39;49m\u001b[39mzip\u001b[39;49m\u001b[39m'\u001b[39;49m)\n\u001b[0;32m     27\u001b[0m remove(\u001b[39m'\u001b[39m\u001b[39mtemp_file.zip\u001b[39m\u001b[39m'\u001b[39m)\n",
      "File \u001b[1;32mc:\\Program Files\\Python311\\Lib\\shutil.py:1307\u001b[0m, in \u001b[0;36munpack_archive\u001b[1;34m(filename, extract_dir, format)\u001b[0m\n\u001b[0;32m   1304\u001b[0m         \u001b[39mraise\u001b[39;00m \u001b[39mValueError\u001b[39;00m(\u001b[39m\"\u001b[39m\u001b[39mUnknown unpack format \u001b[39m\u001b[39m'\u001b[39m\u001b[39m{0}\u001b[39;00m\u001b[39m'\u001b[39m\u001b[39m\"\u001b[39m\u001b[39m.\u001b[39mformat(\u001b[39mformat\u001b[39m)) \u001b[39mfrom\u001b[39;00m \u001b[39mNone\u001b[39m\n\u001b[0;32m   1306\u001b[0m     func \u001b[39m=\u001b[39m format_info[\u001b[39m1\u001b[39m]\n\u001b[1;32m-> 1307\u001b[0m     func(filename, extract_dir, \u001b[39m*\u001b[39;49m\u001b[39m*\u001b[39;49m\u001b[39mdict\u001b[39;49m(format_info[\u001b[39m2\u001b[39;49m]))\n\u001b[0;32m   1308\u001b[0m \u001b[39melse\u001b[39;00m:\n\u001b[0;32m   1309\u001b[0m     \u001b[39m# we need to look at the registered unpackers supported extensions\u001b[39;00m\n\u001b[0;32m   1310\u001b[0m     \u001b[39mformat\u001b[39m \u001b[39m=\u001b[39m _find_unpack_format(filename)\n",
      "File \u001b[1;32mc:\\Program Files\\Python311\\Lib\\shutil.py:1230\u001b[0m, in \u001b[0;36m_unpack_zipfile\u001b[1;34m(filename, extract_dir)\u001b[0m\n\u001b[0;32m   1226\u001b[0m         \u001b[39mif\u001b[39;00m \u001b[39mnot\u001b[39;00m name\u001b[39m.\u001b[39mendswith(\u001b[39m'\u001b[39m\u001b[39m/\u001b[39m\u001b[39m'\u001b[39m):\n\u001b[0;32m   1227\u001b[0m             \u001b[39m# file\u001b[39;00m\n\u001b[0;32m   1228\u001b[0m             \u001b[39mwith\u001b[39;00m \u001b[39mzip\u001b[39m\u001b[39m.\u001b[39mopen(name, \u001b[39m'\u001b[39m\u001b[39mr\u001b[39m\u001b[39m'\u001b[39m) \u001b[39mas\u001b[39;00m source, \\\n\u001b[0;32m   1229\u001b[0m                     \u001b[39mopen\u001b[39m(targetpath, \u001b[39m'\u001b[39m\u001b[39mwb\u001b[39m\u001b[39m'\u001b[39m) \u001b[39mas\u001b[39;00m target:\n\u001b[1;32m-> 1230\u001b[0m                 copyfileobj(source, target)\n\u001b[0;32m   1231\u001b[0m \u001b[39mfinally\u001b[39;00m:\n\u001b[0;32m   1232\u001b[0m     \u001b[39mzip\u001b[39m\u001b[39m.\u001b[39mclose()\n",
      "File \u001b[1;32mc:\\Program Files\\Python311\\Lib\\shutil.py:197\u001b[0m, in \u001b[0;36mcopyfileobj\u001b[1;34m(fsrc, fdst, length)\u001b[0m\n\u001b[0;32m    195\u001b[0m fdst_write \u001b[39m=\u001b[39m fdst\u001b[39m.\u001b[39mwrite\n\u001b[0;32m    196\u001b[0m \u001b[39mwhile\u001b[39;00m \u001b[39mTrue\u001b[39;00m:\n\u001b[1;32m--> 197\u001b[0m     buf \u001b[39m=\u001b[39m fsrc_read(length)\n\u001b[0;32m    198\u001b[0m     \u001b[39mif\u001b[39;00m \u001b[39mnot\u001b[39;00m buf:\n\u001b[0;32m    199\u001b[0m         \u001b[39mbreak\u001b[39;00m\n",
      "File \u001b[1;32mc:\\Program Files\\Python311\\Lib\\zipfile.py:951\u001b[0m, in \u001b[0;36mZipExtFile.read\u001b[1;34m(self, n)\u001b[0m\n\u001b[0;32m    949\u001b[0m \u001b[39mself\u001b[39m\u001b[39m.\u001b[39m_offset \u001b[39m=\u001b[39m \u001b[39m0\u001b[39m\n\u001b[0;32m    950\u001b[0m \u001b[39mwhile\u001b[39;00m n \u001b[39m>\u001b[39m \u001b[39m0\u001b[39m \u001b[39mand\u001b[39;00m \u001b[39mnot\u001b[39;00m \u001b[39mself\u001b[39m\u001b[39m.\u001b[39m_eof:\n\u001b[1;32m--> 951\u001b[0m     data \u001b[39m=\u001b[39m \u001b[39mself\u001b[39;49m\u001b[39m.\u001b[39;49m_read1(n)\n\u001b[0;32m    952\u001b[0m     \u001b[39mif\u001b[39;00m n \u001b[39m<\u001b[39m \u001b[39mlen\u001b[39m(data):\n\u001b[0;32m    953\u001b[0m         \u001b[39mself\u001b[39m\u001b[39m.\u001b[39m_readbuffer \u001b[39m=\u001b[39m data\n",
      "File \u001b[1;32mc:\\Program Files\\Python311\\Lib\\zipfile.py:1041\u001b[0m, in \u001b[0;36mZipExtFile._read1\u001b[1;34m(self, n)\u001b[0m\n\u001b[0;32m   1039\u001b[0m \u001b[39mif\u001b[39;00m \u001b[39mself\u001b[39m\u001b[39m.\u001b[39m_left \u001b[39m<\u001b[39m\u001b[39m=\u001b[39m \u001b[39m0\u001b[39m:\n\u001b[0;32m   1040\u001b[0m     \u001b[39mself\u001b[39m\u001b[39m.\u001b[39m_eof \u001b[39m=\u001b[39m \u001b[39mTrue\u001b[39;00m\n\u001b[1;32m-> 1041\u001b[0m \u001b[39mself\u001b[39;49m\u001b[39m.\u001b[39;49m_update_crc(data)\n\u001b[0;32m   1042\u001b[0m \u001b[39mreturn\u001b[39;00m data\n",
      "File \u001b[1;32mc:\\Program Files\\Python311\\Lib\\zipfile.py:969\u001b[0m, in \u001b[0;36mZipExtFile._update_crc\u001b[1;34m(self, newdata)\u001b[0m\n\u001b[0;32m    967\u001b[0m \u001b[39m# Check the CRC if we're at the end of the file\u001b[39;00m\n\u001b[0;32m    968\u001b[0m \u001b[39mif\u001b[39;00m \u001b[39mself\u001b[39m\u001b[39m.\u001b[39m_eof \u001b[39mand\u001b[39;00m \u001b[39mself\u001b[39m\u001b[39m.\u001b[39m_running_crc \u001b[39m!=\u001b[39m \u001b[39mself\u001b[39m\u001b[39m.\u001b[39m_expected_crc:\n\u001b[1;32m--> 969\u001b[0m     \u001b[39mraise\u001b[39;00m BadZipFile(\u001b[39m\"\u001b[39m\u001b[39mBad CRC-32 for file \u001b[39m\u001b[39m%r\u001b[39;00m\u001b[39m\"\u001b[39m \u001b[39m%\u001b[39m \u001b[39mself\u001b[39m\u001b[39m.\u001b[39mname)\n",
      "\u001b[1;31mBadZipFile\u001b[0m: Bad CRC-32 for file 'pan_tadeusz_cz_1.txt'"
     ]
    }
   ],
   "source": [
    "image = IPVD('images/image.png')\n",
    "secret = packSecrets('./secrets')\n",
    "result, new_data = image.hide_data(secret, RangeTables.basic_range_table, 2, 'results/ipvd_image1.png')\n",
    "image.print_capacity()\n",
    "\n",
    "# reverse = ReverseIPVD('results/ipvd_image1.png')\n",
    "# extracted = reverse.extract(RangeTables.basic_range_table, 2)\n",
    "# unpackSecrets(extracted)\n",
    "\n",
    "image = IPVD('images/image2.jpg')\n",
    "secret = packSecrets('./secrets2')\n",
    "result, new_data = image.hide_data(secret, RangeTables.basic_range_table, 2, 'results/ipvd_image2.png')\n",
    "image.print_capacity()\n",
    "\n",
    "# reverse = ReverseIPVD('results/ipvd_image2.png')\n",
    "# extracted = reverse.extract(RangeTables.basic_range_table, 2)\n",
    "# unpackSecrets(extracted, out='./result_secrets2')"
   ]
  },
  {
   "cell_type": "code",
   "execution_count": null,
   "metadata": {},
   "outputs": [],
   "source": []
  }
 ],
 "metadata": {
  "kernelspec": {
   "display_name": "Python 3",
   "language": "python",
   "name": "python3"
  },
  "language_info": {
   "codemirror_mode": {
    "name": "ipython",
    "version": 3
   },
   "file_extension": ".py",
   "mimetype": "text/x-python",
   "name": "python",
   "nbconvert_exporter": "python",
   "pygments_lexer": "ipython3",
   "version": "3.11.2"
  },
  "orig_nbformat": 4
 },
 "nbformat": 4,
 "nbformat_minor": 2
}
